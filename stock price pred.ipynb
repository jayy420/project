{
 "cells": [
  {
   "cell_type": "code",
   "execution_count": 1,
   "id": "42b37540",
   "metadata": {},
   "outputs": [],
   "source": [
    "import numpy as np\n",
    "import matplotlib.pyplot as plt\n",
    "import pandas as pd\n",
    "import pandas_datareader as web\n",
    "import datetime as dt\n",
    "\n",
    "from sklearn.preprocessing import MinMaxScaler\n",
    "from tensorflow.keras.layers import Dense, Dropout, LSTM\n",
    "from tensorflow.keras.models import Sequential"
   ]
  },
  {
   "cell_type": "markdown",
   "id": "7ae889e7",
   "metadata": {},
   "source": [
    "# Load Data"
   ]
  },
  {
   "cell_type": "code",
   "execution_count": 2,
   "id": "097e485a",
   "metadata": {},
   "outputs": [],
   "source": [
    "company = 'FB'\n",
    "\n",
    "start = dt.datetime(2012,1,1)\n",
    "end = dt.datetime(2020,1,1)\n",
    "\n",
    "data = web.DataReader(company, 'yahoo', start, end)"
   ]
  },
  {
   "cell_type": "markdown",
   "id": "a6bf665c",
   "metadata": {},
   "source": [
    "# Prepare Data"
   ]
  },
  {
   "cell_type": "code",
   "execution_count": 3,
   "id": "4d1c9f56",
   "metadata": {},
   "outputs": [],
   "source": [
    "scaler = MinMaxScaler(feature_range=(0,1))\n",
    "scaled_data = scaler.fit_transform(data['Close'].values.reshape(-1,1))"
   ]
  },
  {
   "cell_type": "code",
   "execution_count": 4,
   "id": "86c46fb2",
   "metadata": {},
   "outputs": [],
   "source": [
    "prediction_days = 60\n",
    "\n",
    "xtrain = []\n",
    "ytrain = []\n",
    "\n",
    "for x in range(prediction_days, len(scaled_data)):\n",
    "    xtrain.append(scaled_data[x-prediction_days :x,0])\n",
    "    ytrain.append(scaled_data[x,0])\n",
    "    \n",
    "xtrain, ytrain = np.array(xtrain), np.array(ytrain)\n",
    "xtrain = np.reshape(xtrain, (xtrain.shape[0], xtrain.shape[1],1))"
   ]
  },
  {
   "cell_type": "markdown",
   "id": "b8ff0ae0",
   "metadata": {},
   "source": [
    "# Build The Model"
   ]
  },
  {
   "cell_type": "code",
   "execution_count": 5,
   "id": "2b35feb6",
   "metadata": {},
   "outputs": [
    {
     "name": "stdout",
     "output_type": "stream",
     "text": [
      "Epoch 1/50\n",
      "45/45 [==============================] - 6s 46ms/step - loss: 0.0340\n",
      "Epoch 2/50\n",
      "45/45 [==============================] - 2s 44ms/step - loss: 0.0040\n",
      "Epoch 3/50\n",
      "45/45 [==============================] - 2s 43ms/step - loss: 0.0032\n",
      "Epoch 4/50\n",
      "45/45 [==============================] - 2s 43ms/step - loss: 0.0030\n",
      "Epoch 5/50\n",
      "45/45 [==============================] - 2s 43ms/step - loss: 0.0029\n",
      "Epoch 6/50\n",
      "45/45 [==============================] - 2s 43ms/step - loss: 0.0027\n",
      "Epoch 7/50\n",
      "45/45 [==============================] - 2s 42ms/step - loss: 0.0034\n",
      "Epoch 8/50\n",
      "45/45 [==============================] - 2s 43ms/step - loss: 0.0028\n",
      "Epoch 9/50\n",
      "45/45 [==============================] - 2s 42ms/step - loss: 0.0026\n",
      "Epoch 10/50\n",
      "45/45 [==============================] - 2s 44ms/step - loss: 0.0024\n",
      "Epoch 11/50\n",
      "45/45 [==============================] - 2s 47ms/step - loss: 0.0027\n",
      "Epoch 12/50\n",
      "45/45 [==============================] - 2s 48ms/step - loss: 0.0024\n",
      "Epoch 13/50\n",
      "45/45 [==============================] - 2s 46ms/step - loss: 0.0024\n",
      "Epoch 14/50\n",
      "45/45 [==============================] - 2s 45ms/step - loss: 0.0026\n",
      "Epoch 15/50\n",
      "45/45 [==============================] - 2s 44ms/step - loss: 0.0024\n",
      "Epoch 16/50\n",
      "45/45 [==============================] - 2s 49ms/step - loss: 0.0026\n",
      "Epoch 17/50\n",
      "45/45 [==============================] - 2s 55ms/step - loss: 0.0023\n",
      "Epoch 18/50\n",
      "45/45 [==============================] - 2s 51ms/step - loss: 0.0020\n",
      "Epoch 19/50\n",
      "45/45 [==============================] - 2s 49ms/step - loss: 0.0025\n",
      "Epoch 20/50\n",
      "45/45 [==============================] - 2s 46ms/step - loss: 0.0021\n",
      "Epoch 21/50\n",
      "45/45 [==============================] - 2s 46ms/step - loss: 0.0020\n",
      "Epoch 22/50\n",
      "45/45 [==============================] - 2s 48ms/step - loss: 0.0020\n",
      "Epoch 23/50\n",
      "45/45 [==============================] - 2s 47ms/step - loss: 0.0019\n",
      "Epoch 24/50\n",
      "45/45 [==============================] - 2s 48ms/step - loss: 0.0022\n",
      "Epoch 25/50\n",
      "45/45 [==============================] - 2s 47ms/step - loss: 0.0023\n",
      "Epoch 26/50\n",
      "45/45 [==============================] - 2s 50ms/step - loss: 0.0019\n",
      "Epoch 27/50\n",
      "45/45 [==============================] - 3s 55ms/step - loss: 0.0020\n",
      "Epoch 28/50\n",
      "45/45 [==============================] - 2s 48ms/step - loss: 0.0019\n",
      "Epoch 29/50\n",
      "45/45 [==============================] - 2s 55ms/step - loss: 0.0019\n",
      "Epoch 30/50\n",
      "45/45 [==============================] - 2s 55ms/step - loss: 0.0017\n",
      "Epoch 31/50\n",
      "45/45 [==============================] - 2s 51ms/step - loss: 0.0018\n",
      "Epoch 32/50\n",
      "45/45 [==============================] - 2s 45ms/step - loss: 0.0020\n",
      "Epoch 33/50\n",
      "45/45 [==============================] - 2s 45ms/step - loss: 0.0017\n",
      "Epoch 34/50\n",
      "45/45 [==============================] - 2s 44ms/step - loss: 0.0018\n",
      "Epoch 35/50\n",
      "45/45 [==============================] - 2s 44ms/step - loss: 0.0017\n",
      "Epoch 36/50\n",
      "45/45 [==============================] - 2s 45ms/step - loss: 0.0017\n",
      "Epoch 37/50\n",
      "45/45 [==============================] - 2s 44ms/step - loss: 0.0019\n",
      "Epoch 38/50\n",
      "45/45 [==============================] - 2s 45ms/step - loss: 0.0017\n",
      "Epoch 39/50\n",
      "45/45 [==============================] - 2s 44ms/step - loss: 0.0018\n",
      "Epoch 40/50\n",
      "45/45 [==============================] - 2s 45ms/step - loss: 0.0016\n",
      "Epoch 41/50\n",
      "45/45 [==============================] - 2s 43ms/step - loss: 0.0016\n",
      "Epoch 42/50\n",
      "45/45 [==============================] - 2s 43ms/step - loss: 0.0015\n",
      "Epoch 43/50\n",
      "45/45 [==============================] - 2s 45ms/step - loss: 0.0016\n",
      "Epoch 44/50\n",
      "45/45 [==============================] - 2s 44ms/step - loss: 0.0015\n",
      "Epoch 45/50\n",
      "45/45 [==============================] - 2s 45ms/step - loss: 0.0016\n",
      "Epoch 46/50\n",
      "45/45 [==============================] - 2s 44ms/step - loss: 0.0016\n",
      "Epoch 47/50\n",
      "45/45 [==============================] - 2s 44ms/step - loss: 0.0015\n",
      "Epoch 48/50\n",
      "45/45 [==============================] - 2s 44ms/step - loss: 0.0013\n",
      "Epoch 49/50\n",
      "45/45 [==============================] - 2s 44ms/step - loss: 0.0014\n",
      "Epoch 50/50\n",
      "45/45 [==============================] - 2s 45ms/step - loss: 0.0014\n"
     ]
    },
    {
     "data": {
      "text/plain": [
       "<keras.callbacks.History at 0x1af856f4820>"
      ]
     },
     "execution_count": 5,
     "metadata": {},
     "output_type": "execute_result"
    }
   ],
   "source": [
    "model = Sequential()\n",
    "\n",
    "model.add(LSTM(units=60,return_sequences=True,input_shape=(xtrain.shape[1],1)))\n",
    "model.add(Dropout(0.2))\n",
    "model.add(LSTM(units=60,return_sequences=True))\n",
    "model.add(Dropout(0.2))\n",
    "model.add(LSTM(units=60))\n",
    "model.add(Dropout(0.2))\n",
    "model.add(Dense(units=1))\n",
    "\n",
    "model.compile(optimizer='adam', loss= 'mean_squared_error')\n",
    "model.fit(xtrain, ytrain, epochs=50, batch_size=42)"
   ]
  },
  {
   "cell_type": "markdown",
   "id": "e90aeafd",
   "metadata": {},
   "source": [
    "# Testing Model accuracy"
   ]
  },
  {
   "cell_type": "code",
   "execution_count": 6,
   "id": "36140dce",
   "metadata": {},
   "outputs": [],
   "source": [
    "test_start = dt.datetime(2020,1,1)\n",
    "test_end = dt.datetime.now()\n",
    "\n",
    "test_data = web.DataReader(company, 'yahoo', test_start, test_end)\n",
    "actual_prices = test_data['Close'].values\n",
    "\n",
    "total_data = pd.concat((data['Close'], test_data['Close']))\n"
   ]
  },
  {
   "cell_type": "code",
   "execution_count": 7,
   "id": "5195e7c1",
   "metadata": {},
   "outputs": [],
   "source": [
    "model_inputs = total_data[len(total_data) - len(test_data) - prediction_days:].values\n",
    "model_inputs = model_inputs.reshape(-1,1)\n",
    "model_inputs = scaler.transform(model_inputs)"
   ]
  },
  {
   "cell_type": "markdown",
   "id": "9301d847",
   "metadata": {},
   "source": [
    "# make prediction on test data"
   ]
  },
  {
   "cell_type": "code",
   "execution_count": 9,
   "id": "bdf49a9c",
   "metadata": {},
   "outputs": [],
   "source": [
    "xtest = []\n",
    "\n",
    "for x in range(prediction_days,len(model_inputs)):\n",
    "    xtest.append(model_inputs[x-prediction_days:x,0])\n",
    "    \n",
    "xtest = np.array(xtest)\n",
    "xtest = np.reshape(xtest, (xtest.shape[0], xtest.shape[1],1))\n",
    "\n",
    "predicted_prices = model.predict(xtest)\n",
    "predicted_prices = scaler.inverse_transform(predicted_prices)"
   ]
  },
  {
   "cell_type": "code",
   "execution_count": 10,
   "id": "a3fd5c8d",
   "metadata": {},
   "outputs": [
    {
     "data": {
      "image/png": "[encoded data removed]",
      "text/plain": [
       "<Figure size 432x288 with 1 Axes>"
      ]
     },
     "metadata": {
      "needs_background": "light"
     },
     "output_type": "display_data"
    }
   ],
   "source": [
    "plt.plot(actual_prices, color = 'black',label = f'actual{company}prices')\n",
    "plt.plot(predicted_prices, color = 'green', label = f'predicted{company}prices')\n",
    "plt.title(f'{company} share prices')\n",
    "plt.xlabel('Time')\n",
    "plt.ylabel('prices')\n",
    "plt.legend()\n",
    "plt.show()"
   ]
  },
  {
   "cell_type": "code",
   "execution_count": null,
   "id": "99ca4b81",
   "metadata": {},
   "outputs": [],
   "source": []
  }
 ],
 "metadata": {
  "kernelspec": {
   "display_name": "Python 3 (ipykernel)",
   "language": "python",
   "name": "python3"
  },
  "language_info": {
   "codemirror_mode": {
    "name": "ipython",
    "version": 3
   },
   "file_extension": ".py",
   "mimetype": "text/x-python",
   "name": "python",
   "nbconvert_exporter": "python",
   "pygments_lexer": "ipython3",
   "version": "3.8.9"
  }
 },
 "nbformat": 4,
 "nbformat_minor": 5
}
